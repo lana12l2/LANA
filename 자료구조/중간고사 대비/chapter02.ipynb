{
 "cells": [
  {
   "cell_type": "code",
   "execution_count": null,
   "id": "2e75a596",
   "metadata": {},
   "outputs": [
    {
     "name": "stdout",
     "output_type": "stream",
     "text": [
      "a= [(5, 12), (-6, 8), (13, 3)]\n",
      "b= [(10, 15), (4, 8), (9, 0)]\n",
      "d= [(10, 15), (5, 12), (-2, 8), (13, 3), (9, 0)]\n"
     ]
    }
   ],
   "source": [
    "#다항식 계산기\n",
    "\n",
    "a=[(5,12),(-6,8),(13,3)]\n",
    "b=[(10,15),(4,8),(9,0)]\n",
    "d=[]\n",
    "\n",
    "def padd(a,b,d):\n",
    "    while a and b: #둘다 원소가 존재할 동안 반복\n",
    "        coef1,exp1=a[0]\n",
    "        coef2,exp2=b[0]\n",
    "        if exp1>exp2:\n",
    "            d.append(a[0])\n",
    "            a.pop(0)\n",
    "        elif exp1<exp2:\n",
    "            d.append(b[0])\n",
    "            b.pop(0)\n",
    "        else:\n",
    "            if coef1+coef2: #합쳐서 0되면 출력하면안됨\n",
    "                d.append((coef1+coef2,exp1))\n",
    "            a.pop(0)\n",
    "            b.pop(0)\n",
    "    for coef,exp in a:\n",
    "        d.append((coef,exp))\n",
    "    for coef,exp in b:\n",
    "        d.append((coef,exp))\n",
    "        \n",
    "\n",
    "print(\"a=\",a)\n",
    "print(\"b=\",b)\n",
    "padd(a,b,d)\n",
    "print(\"d=\",d)\n",
    "\n"
   ]
  },
  {
   "cell_type": "code",
   "execution_count": 13,
   "id": "b889598a",
   "metadata": {},
   "outputs": [
    {
     "name": "stdout",
     "output_type": "stream",
     "text": [
      "[(6, 6, 8), (0, 0, 15), (0, 3, 22), (0, 5, 15), (1, 1, 11), (1, 2, 3), (2, 3, -6), (4, 0, 91), (5, 2, 28)]\n"
     ]
    }
   ],
   "source": [
    "#희소행렬 출력\n",
    "class SparseMatrix:\n",
    "    def __init__(self):\n",
    "        self.matrix=[[15,0,0,22,0,15],\n",
    "                     [0,11,3,0,0,0],\n",
    "                     [0,0,0,-6,0,0],\n",
    "                     [0,0,0,0,0,0],\n",
    "                     [91,0,0,0,0,0],\n",
    "                     [0,0,28,0,0,0]]\n",
    "        self.sparse_list=[]\n",
    "    \n",
    "    def toTuple(self):\n",
    "        row=count=0 #count는 0아닌 원소개수\n",
    "        for rows in self.matrix:\n",
    "            col=0\n",
    "            for value in rows:\n",
    "                if value!=0:\n",
    "                    count+=1\n",
    "                    self.sparse_list.append((row,col,value))\n",
    "                col+=1\n",
    "            row+=1\n",
    "    \n",
    "        height=len(self.matrix)\n",
    "        width=len(self.matrix[0])\n",
    "        self.sparse_list.insert(0,(height,width,count))\n",
    "\n",
    "s=SparseMatrix()\n",
    "s.toTuple()\n",
    "print(s.sparse_list)"
   ]
  },
  {
   "cell_type": "code",
   "execution_count": 3,
   "id": "55567d99",
   "metadata": {},
   "outputs": [
    {
     "name": "stdout",
     "output_type": "stream",
     "text": [
      "[0, 1, 2, 3, 4]\n",
      "[0, 1, 2, 3, 4]\n",
      "[0, 1, 2, 3, 4]\n"
     ]
    }
   ],
   "source": [
    "#2-10 리스트의 생성\n",
    "num1=[]\n",
    "for i in range(5):\n",
    "    num1.append(i)\n",
    "\n",
    "num2=[i for i in range(5)]\n",
    "\n",
    "num3=list(range(5))\n",
    "print(num1)\n",
    "print(num2)\n",
    "print(num3)"
   ]
  },
  {
   "cell_type": "code",
   "execution_count": null,
   "id": "e697cb5a",
   "metadata": {},
   "outputs": [
    {
     "name": "stdout",
     "output_type": "stream",
     "text": [
      "i 6 \n",
      "to 3 \n",
      "you 2 \n",
      "and 2 \n",
      "me 1 \n",
      "be 1 \n",
      "but 1 \n",
      "the 1 \n",
      "it 1 \n",
      "my 1 \n",
      "is 1 \n",
      "well, 0 \n",
      "did 0 \n",
      "do 0 \n",
      "bet 0 \n",
      "felt 0 \n",
      "it. 0 \n",
      "tried 0 \n",
      "chill, 0 \n",
      "are 0 \n",
      "so 0 \n",
      "hot 0 \n",
      "that 0 \n",
      "melted. 0 \n",
      "fell 0 \n",
      "right 0 \n",
      "through 0 \n",
      "cracks, 0 \n",
      "now 0 \n",
      "am 0 \n",
      "trying 0 \n",
      "get 0 \n",
      "back. 0 \n",
      "before 0 \n",
      "cool 0 \n",
      "done 0 \n",
      "run 0 \n",
      "out, 0 \n",
      "will 0 \n",
      "giving 0 \n",
      "bestest. 0 \n",
      "nothing 0 \n",
      "going 0 \n",
      "stop 0 \n",
      "divine 0 \n",
      "intervention. 0 \n",
      "reckon 0 \n",
      "again 0 \n",
      "turn 0 \n",
      "win 0 \n",
      "some 0 \n",
      "or 0 \n",
      "learn 0 \n",
      "some. 0 \n"
     ]
    }
   ],
   "source": [
    "# 단어 출현 횟수에 따라 내림차순 정렬\n",
    "sentence=\"Well, you did do me and you bet I felt it.  I tried to be chill, but you are so hot that I melted.  I fell right through the cracks, and now I am trying to get back.  Before the cool done run out, I will be giving it my bestest.  And nothing is going to stop me but divine intervention.  I reckon it is again my turn to win some or learn some.\"\n",
    "words=sentence.lower()\n",
    "words=words.split()\n",
    "dic={}\n",
    "for word in words:\n",
    "    if word not in dic:\n",
    "        dic[word]=0\n",
    "    else:\n",
    "        dic[word]+=1\n",
    "\n",
    "#freq=list(dic.values()) #.value()는 리스트 아님\n",
    "freq=sorted(dic.items(),key=lambda x:x[1],reverse=True)\n",
    "for word,count in freq:\n",
    "    print(word,'%d'%count,end=' ')\n",
    "    print()\n"
   ]
  },
  {
   "cell_type": "code",
   "execution_count": null,
   "id": "a0ae9d4a",
   "metadata": {},
   "outputs": [
    {
     "name": "stdout",
     "output_type": "stream",
     "text": [
      "[3, 6, 9]\n"
     ]
    }
   ],
   "source": [
    "#1보다크고 n보다작은 m의배수반환\n",
    "def calc(m,n):\n",
    "    lst=[]\n",
    "    for i in range(1,n):\n",
    "        if i%m==0:\n",
    "            lst.append(i)\n",
    "    return lst\n",
    "s=calc(3,10)\n",
    "print(s)"
   ]
  },
  {
   "cell_type": "code",
   "execution_count": 15,
   "id": "82de0f93",
   "metadata": {},
   "outputs": [
    {
     "data": {
      "text/plain": [
       "True"
      ]
     },
     "execution_count": 15,
     "metadata": {},
     "output_type": "execute_result"
    }
   ],
   "source": [
    "#슬라이싱으로 회문판단하기\n",
    "def ispalindrome(str):\n",
    "    if str[-1::-1]==str:\n",
    "        return True\n",
    "    else:\n",
    "        return False\n",
    "    \n",
    "ispalindrome(\"대학생학대\")"
   ]
  },
  {
   "cell_type": "code",
   "execution_count": null,
   "id": "f2340521",
   "metadata": {},
   "outputs": [
    {
     "name": "stdout",
     "output_type": "stream",
     "text": [
      "[1, 2, 4, 7, 11, 16, 22, 29, 37, 46, 56, 67, 79, 92, 106]\n"
     ]
    }
   ],
   "source": [
    "#반복문으로 규칙적으로 증가하는 리스트 생성\n",
    "\n",
    "lst=[]\n",
    "j=1\n",
    "for i in range(15):\n",
    "    x=i+j\n",
    "    lst.append(i+j)\n",
    "    j=j+i \n",
    "print(lst)"
   ]
  },
  {
   "cell_type": "code",
   "execution_count": 9,
   "id": "a453119f",
   "metadata": {},
   "outputs": [
    {
     "name": "stdout",
     "output_type": "stream",
     "text": [
      "75 90 85 \n",
      "60 100 75 \n",
      "90 70 80 \n"
     ]
    }
   ],
   "source": [
    "#중첩 반복문으로 2차원 리스트 출력\n",
    "scores=[[75,90,85],[60,100,75],[90,70,80]]\n",
    "for item in scores:\n",
    "    for i in range(3):\n",
    "        print(item[i],end=' ')\n",
    "    print()"
   ]
  }
 ],
 "metadata": {
  "kernelspec": {
   "display_name": "Python 3",
   "language": "python",
   "name": "python3"
  },
  "language_info": {
   "codemirror_mode": {
    "name": "ipython",
    "version": 3
   },
   "file_extension": ".py",
   "mimetype": "text/x-python",
   "name": "python",
   "nbconvert_exporter": "python",
   "pygments_lexer": "ipython3",
   "version": "3.12.3"
  }
 },
 "nbformat": 4,
 "nbformat_minor": 5
}
