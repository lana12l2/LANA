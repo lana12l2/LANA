{
 "cells": [
  {
   "cell_type": "code",
   "execution_count": null,
   "id": "f1c60702",
   "metadata": {},
   "outputs": [],
   "source": [
    "#헤드노드 없는 이중연결리스트를 역순으로 연결\n",
    "\n",
    "def reverse_doubly_linked_list(head):\n",
    "    current = head\n",
    "    temp = None\n",
    "\n",
    "    while current is not None:\n",
    "        # prev와 next를 swap\n",
    "        temp = current.prev\n",
    "        current.prev = current.next\n",
    "        current.next = temp\n",
    "\n",
    "        # prev(이전의 next 방향)로 이동\n",
    "        current = current.prev\n",
    "\n",
    "    # temp는 마지막 처리된 노드의 이전 상태\n",
    "    if temp is not None:\n",
    "        head = temp.prev  # 역순에서 첫 번째 노드가 됨\n",
    "\n",
    "    return head\n"
   ]
  },
  {
   "cell_type": "code",
   "execution_count": null,
   "id": "3e5ad379",
   "metadata": {},
   "outputs": [],
   "source": [
    "#이중연결리스트의 노드 순서를 역순으로 재연결하는 함수\n",
    "\n",
    "def reverse_doubly_linked_list(head):\n",
    "    current = head\n",
    "    temp = None\n",
    "\n",
    "    while current is not None:\n",
    "        # prev와 next를 swap\n",
    "        temp = current.prev\n",
    "        current.prev = current.next\n",
    "        current.next = temp\n",
    "\n",
    "        # prev(이전 next 방향)로 이동\n",
    "        current = current.prev\n",
    "\n",
    "    # 마지막 노드였던 것이 이제 head가 됨\n",
    "    if temp is not None:\n",
    "        head = temp.prev\n",
    "\n",
    "    return head\n"
   ]
  }
 ],
 "metadata": {
  "language_info": {
   "name": "python"
  }
 },
 "nbformat": 4,
 "nbformat_minor": 5
}
