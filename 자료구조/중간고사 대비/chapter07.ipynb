{
 "cells": [
  {
   "cell_type": "code",
   "execution_count": null,
   "id": "155d245f",
   "metadata": {},
   "outputs": [],
   "source": [
    "#최대 힙에서 노드 추가와 삭제\n",
    "def add_heap(self,item):\n",
    "    if self.size-1==self.count:\n",
    "        return \n",
    "    self.count+=1\n",
    "    i=self.count\n",
    "    while i!=1 and item>self.heap[i//2]:\n",
    "        self.heap[i]=self.heap[i//2]\n",
    "        i//=2\n",
    "    self.heap[i]=item\n",
    "\n",
    "\n",
    "def del_heap(self):\n",
    "    if self.count==0:\n",
    "        print(\"Empty heap\")\n",
    "        return \n",
    "    item=self.heap[1]\n",
    "    temp=self.heap[self.count] #맨뒤에꺼 temp에 잠시 저장 -> 이후에 알맞는 위치로 상승.\n",
    "    self.heap[self.count]=None\n",
    "    self.count-=1\n",
    "    parent=1\n",
    "    child=2\n",
    "    while child<=self.count:\n",
    "        if child<self.count and self.heap[child]<self.heap[child+1]:\n",
    "            child+=1\n",
    "        if temp>=self.heap[self.child]:break\n",
    "        self.heap[parent]=self.heap[child]\n",
    "        parent=child\n",
    "        child*=2\n",
    "    if self.count!=0:\n",
    "        self.heap[parent]=temp\n",
    "    return item\n",
    "\n"
   ]
  }
 ],
 "metadata": {
  "language_info": {
   "name": "python"
  }
 },
 "nbformat": 4,
 "nbformat_minor": 5
}
