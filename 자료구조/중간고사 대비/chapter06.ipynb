{
 "cells": [
  {
   "cell_type": "code",
   "execution_count": null,
   "id": "690b0f4a",
   "metadata": {},
   "outputs": [],
   "source": [
    "#루트 포인터 변수를 입력받아 동일한 구조의 이진트리를 생성\n",
    "def copyTree(tree):\n",
    "    if tree:\n",
    "        temp=Node(tree.data) #루트 노드를 생성한다.\n",
    "        temp.left=copyTree(tree.left)\n",
    "        temp.right=copyTree(tree.right)\n",
    "        "
   ]
  },
  {
   "cell_type": "code",
   "execution_count": null,
   "id": "2193ffc0",
   "metadata": {},
   "outputs": [],
   "source": [
    "class Node:\n",
    "    def __init__(self, data):\n",
    "        self.data = data\n",
    "        self.left = None\n",
    "        self.right = None\n",
    "\n",
    "# 조상 찾기\n",
    "def find_ancestors(root, item, path=[]):\n",
    "    if root is None:\n",
    "        return False\n",
    "    if root.data == item:\n",
    "        return True\n",
    "    if find_ancestors(root.left, item, path) or find_ancestors(root.right, item, path):\n",
    "        path.append(root.data)\n",
    "        return True\n",
    "    return False\n",
    "\n",
    "# 자손 출력\n",
    "def print_descendants(root):\n",
    "    if root is None:\n",
    "        return\n",
    "    print(root.data)\n",
    "    print_descendants(root.left)\n",
    "    print_descendants(root.right)\n"
   ]
  },
  {
   "cell_type": "code",
   "execution_count": null,
   "id": "5612921b",
   "metadata": {},
   "outputs": [],
   "source": [
    "#이진 트리의 단말 노드만을 출력하는 함수\n",
    "stack=[]\n",
    "def printLeaf(tree): #tree는 루트 노드를 가리키는 포인터, 재귀함수 사용시stack을 바깥에서 선언함에 주의.\n",
    "    temp=tree\n",
    "    if not tree:\n",
    "        return False\n",
    "    if temp.left:\n",
    "        printLeaf(tree.left)\n",
    "    if temp.right:\n",
    "        printLeaf(tree.right)\n",
    "    if not tree.left and not tree.right:\n",
    "        stack.append(tree)\n",
    "    \n"
   ]
  },
  {
   "cell_type": "code",
   "execution_count": null,
   "id": "aa124691",
   "metadata": {},
   "outputs": [],
   "source": [
    "#노드의 총개수 출력하는함수\n",
    "count=0\n",
    "def count(tree):\n",
    "    if not tree:\n",
    "        return 0\n",
    "    return 1+count(tree.left)+count(tree.right)\n",
    "\n"
   ]
  },
  {
   "cell_type": "code",
   "execution_count": null,
   "id": "52fa651a",
   "metadata": {},
   "outputs": [],
   "source": [
    "#루트 변수를 입력받아 포화이진트리를 검사\n",
    "def is_full_tree(node):\n",
    "    # 빈 노드는 포화로 간주\n",
    "    if node is None:\n",
    "        return True\n",
    "\n",
    "    # 리프 노드도 포화\n",
    "    if node.left is None and node.right is None:\n",
    "        return True\n",
    "\n",
    "    # 양쪽 자식이 모두 있으면, 그 하위도 검사\n",
    "    if node.left and node.right:\n",
    "        return is_full_tree(node.left) and is_full_tree(node.right)\n",
    "\n",
    "    # 한쪽만 있으면 포화 아님\n",
    "    return False\n",
    "\n",
    "#완전이진트리 검사\n",
    "def is_complete_binary_tree(tree):\n",
    "    if not tree:\n",
    "        return True\n",
    "\n",
    "    queue = [tree]\n",
    "    end = False  # 자식 없는 노드를 처음 만난 이후에는 모든 노드가 없어야 함\n",
    "\n",
    "    while queue:\n",
    "        current = queue.pop(0)\n",
    "\n",
    "        if current is None:\n",
    "            end = True\n",
    "        else:\n",
    "            if end:\n",
    "                return False  # None 이후에 노드가 또 나오면 완전 X\n",
    "            queue.append(current.left)\n",
    "            queue.append(current.right)\n",
    "\n",
    "    return True\n",
    "\n",
    "\n"
   ]
  }
 ],
 "metadata": {
  "language_info": {
   "name": "python"
  }
 },
 "nbformat": 4,
 "nbformat_minor": 5
}
